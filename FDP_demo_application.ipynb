{
  "cells": [
    {
      "cell_type": "markdown",
      "metadata": {
        "id": "view-in-github",
        "colab_type": "text"
      },
      "source": [
        "<a href=\"https://colab.research.google.com/github/AKASH-L-M/FDP-Generative-AI/blob/main/FDP_demo_application.ipynb\" target=\"_parent\"><img src=\"https://colab.research.google.com/assets/colab-badge.svg\" alt=\"Open In Colab\"/></a>"
      ]
    },
    {
      "cell_type": "markdown",
      "source": [
        "# Text generation"
      ],
      "metadata": {
        "id": "cjvjT4BKy30G"
      }
    },
    {
      "cell_type": "markdown",
      "source": [
        "### Code from Hugging face library"
      ],
      "metadata": {
        "id": "22BCJfckzIBO"
      }
    },
    {
      "cell_type": "code",
      "execution_count": null,
      "metadata": {
        "id": "vVO_BL13O0ao"
      },
      "outputs": [],
      "source": [
        "# Use a pipeline as a high-level helper\n",
        "from transformers import pipeline\n",
        "\n",
        "# Define the pipeline\n",
        "pipe = pipeline(\"text-generation\", model=\"openai-community/gpt2\")"
      ]
    },
    {
      "cell_type": "markdown",
      "source": [
        "### ChatGPT generated code"
      ],
      "metadata": {
        "id": "gkb5qr_MzLjj"
      }
    },
    {
      "cell_type": "code",
      "execution_count": null,
      "metadata": {
        "id": "rH5p2wkCO27J"
      },
      "outputs": [],
      "source": [
        "# Sample text input\n",
        "text_input = \"Once upon a time, in a land far far away\"\n",
        "\n",
        "# Generate text using the pipeline\n",
        "generated_text = pipe(text_input, max_length=50, do_sample=True, temperature=0.7)\n",
        "\n",
        "# Print the generated text\n",
        "print(generated_text[0]['generated_text'])"
      ]
    },
    {
      "cell_type": "markdown",
      "metadata": {
        "id": "pfzYwXD0S256"
      },
      "source": [
        "## Build final application"
      ]
    },
    {
      "cell_type": "code",
      "execution_count": null,
      "metadata": {
        "id": "2wU2rrbMQlvr"
      },
      "outputs": [],
      "source": [
        "!pip install gradio"
      ]
    },
    {
      "cell_type": "code",
      "execution_count": null,
      "metadata": {
        "id": "uwQeeIcaPTdz"
      },
      "outputs": [],
      "source": [
        "\n",
        "from transformers import pipeline\n",
        "import gradio as gr\n",
        "\n",
        "# Define the text generation pipeline\n",
        "pipe = pipeline(\"text-generation\", model=\"openai-community/gpt2\")\n",
        "\n",
        "# Function to generate text based on user input\n",
        "def generate_text(input_text):\n",
        "    generated_text = pipe(input_text, max_length=50, do_sample=True, temperature=0.7)\n",
        "    return generated_text[0]['generated_text']\n",
        "\n",
        "# Create Gradio interface\n",
        "iface = gr.Interface(fn=generate_text, inputs=\"text\", outputs=\"text\", title=\"Text Generation\",\n",
        "                     description=\"Enter a text prompt and see AI's response.\")\n",
        "iface.launch()\n"
      ]
    },
    {
      "cell_type": "markdown",
      "metadata": {
        "id": "nHkyH9z5TL9f"
      },
      "source": [
        "# Diffusers - Image Generation"
      ]
    },
    {
      "cell_type": "code",
      "execution_count": null,
      "metadata": {
        "id": "LTBabgZ4Qh6s"
      },
      "outputs": [],
      "source": [
        "!pip install diffusers\n",
        "!pip install accelerate"
      ]
    },
    {
      "cell_type": "code",
      "execution_count": null,
      "metadata": {
        "id": "_jyPGGcnTOmg"
      },
      "outputs": [],
      "source": [
        "from diffusers import DiffusionPipeline\n",
        "\n",
        "pipeline = DiffusionPipeline.from_pretrained(\"stabilityai/stable-diffusion-2\")\n",
        "# pipeline = DiffusionPipeline.from_pretrained(\"stabilityai/stable-diffusion-2-1\")"
      ]
    },
    {
      "cell_type": "code",
      "execution_count": null,
      "metadata": {
        "colab": {
          "background_save": true
        },
        "id": "Dp7Za5j1TPLq"
      },
      "outputs": [],
      "source": [
        "# Sample text input\n",
        "text_input = \"A beautiful sunset over the mountains.\"\n",
        "\n",
        "# Generate image from text using the pipeline\n",
        "generated_image = pipeline(text_input)\n",
        "\n",
        "# Display the generated image\n",
        "generated_image.show()"
      ]
    }
  ],
  "metadata": {
    "accelerator": "TPU",
    "colab": {
      "provenance": [],
      "authorship_tag": "ABX9TyNAOCJ2cGMn4JMJGhiPGBRU",
      "include_colab_link": true
    },
    "kernelspec": {
      "display_name": "Python 3",
      "name": "python3"
    },
    "language_info": {
      "name": "python"
    }
  },
  "nbformat": 4,
  "nbformat_minor": 0
}